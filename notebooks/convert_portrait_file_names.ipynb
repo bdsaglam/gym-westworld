{
 "cells": [
  {
   "cell_type": "code",
   "execution_count": 1,
   "metadata": {},
   "outputs": [],
   "source": [
    "import pathlib"
   ]
  },
  {
   "cell_type": "code",
   "execution_count": 4,
   "metadata": {},
   "outputs": [],
   "source": [
    "root = pathlib.Path('/Users/bdsaglam/PycharmProjects/gym-miniworld/gym_miniworld/textures/portraits/')"
   ]
  },
  {
   "cell_type": "code",
   "execution_count": 5,
   "metadata": {},
   "outputs": [],
   "source": [
    "fp = root / 'adelaide_hanscom1.png'"
   ]
  },
  {
   "cell_type": "code",
   "execution_count": 6,
   "metadata": {},
   "outputs": [
    {
     "data": {
      "text/plain": [
       "('/',\n",
       " 'Users',\n",
       " 'bdsaglam',\n",
       " 'PycharmProjects',\n",
       " 'gym-miniworld',\n",
       " 'gym_miniworld',\n",
       " 'textures',\n",
       " 'portraits',\n",
       " 'adelaide_hanscom1.png')"
      ]
     },
     "execution_count": 6,
     "metadata": {},
     "output_type": "execute_result"
    }
   ],
   "source": [
    "fp.parts"
   ]
  },
  {
   "cell_type": "code",
   "execution_count": null,
   "metadata": {},
   "outputs": [],
   "source": [
    "fp.rename"
   ]
  },
  {
   "cell_type": "code",
   "execution_count": 9,
   "metadata": {},
   "outputs": [],
   "source": [
    "for fp in root.glob('*'):\n",
    "    parts = fp.parts\n",
    "    filename, ext = fp.parts[-1].rsplit('.', 1)\n",
    "    new_filename = filename[:-1] + '_' + filename[-1] + '.'  + ext\n",
    "    new_filepath = pathlib.Path(*parts[:-1], new_filename)\n",
    "    fp.rename(new_filepath)"
   ]
  },
  {
   "cell_type": "code",
   "execution_count": null,
   "metadata": {},
   "outputs": [],
   "source": []
  }
 ],
 "metadata": {
  "kernelspec": {
   "display_name": "Python 3",
   "language": "python",
   "name": "python3"
  },
  "language_info": {
   "codemirror_mode": {
    "name": "ipython",
    "version": 3
   },
   "file_extension": ".py",
   "mimetype": "text/x-python",
   "name": "python",
   "nbconvert_exporter": "python",
   "pygments_lexer": "ipython3",
   "version": "3.7.4"
  }
 },
 "nbformat": 4,
 "nbformat_minor": 2
}
